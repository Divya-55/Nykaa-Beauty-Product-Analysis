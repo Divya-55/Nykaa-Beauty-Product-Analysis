{
 "cells": [
  {
   "cell_type": "code",
   "execution_count": 44,
   "id": "12c1ec79-105e-48a1-b85d-b77b31449198",
   "metadata": {},
   "outputs": [],
   "source": [
    "import pandas as pd"
   ]
  },
  {
   "cell_type": "code",
   "execution_count": 45,
   "id": "0f90b498-0051-46ac-9cfd-234d3d69d793",
   "metadata": {},
   "outputs": [
    {
     "data": {
      "text/html": [
       "<div>\n",
       "<style scoped>\n",
       "    .dataframe tbody tr th:only-of-type {\n",
       "        vertical-align: middle;\n",
       "    }\n",
       "\n",
       "    .dataframe tbody tr th {\n",
       "        vertical-align: top;\n",
       "    }\n",
       "\n",
       "    .dataframe thead th {\n",
       "        text-align: right;\n",
       "    }\n",
       "</style>\n",
       "<table border=\"1\" class=\"dataframe\">\n",
       "  <thead>\n",
       "    <tr style=\"text-align: right;\">\n",
       "      <th></th>\n",
       "      <th>product_id</th>\n",
       "      <th>brand_name</th>\n",
       "      <th>review_id</th>\n",
       "      <th>review_title</th>\n",
       "      <th>review_text</th>\n",
       "      <th>author</th>\n",
       "      <th>review_date</th>\n",
       "      <th>review_rating</th>\n",
       "      <th>is_a_buyer</th>\n",
       "      <th>pro_user</th>\n",
       "      <th>review_label</th>\n",
       "      <th>product_title</th>\n",
       "      <th>mrp</th>\n",
       "      <th>price</th>\n",
       "      <th>product_rating</th>\n",
       "      <th>product_rating_count</th>\n",
       "      <th>product_tags</th>\n",
       "      <th>product_url</th>\n",
       "    </tr>\n",
       "  </thead>\n",
       "  <tbody>\n",
       "    <tr>\n",
       "      <th>0</th>\n",
       "      <td>781070</td>\n",
       "      <td>Olay</td>\n",
       "      <td>16752142</td>\n",
       "      <td>Worth buying 50g one</td>\n",
       "      <td>Works as it claims. Could see the difference f...</td>\n",
       "      <td>Ashton Dsouza</td>\n",
       "      <td>2021-01-23 15:17:18</td>\n",
       "      <td>5.0</td>\n",
       "      <td>True</td>\n",
       "      <td>False</td>\n",
       "      <td>Verified Buyer</td>\n",
       "      <td>Olay Ultra Lightweight Moisturiser: Luminous W...</td>\n",
       "      <td>1999</td>\n",
       "      <td>1599</td>\n",
       "      <td>4.1</td>\n",
       "      <td>43</td>\n",
       "      <td>NaN</td>\n",
       "      <td>https://www.nykaa.com/olay-ultra-lightweight-m...</td>\n",
       "    </tr>\n",
       "    <tr>\n",
       "      <th>1</th>\n",
       "      <td>781070</td>\n",
       "      <td>Olay</td>\n",
       "      <td>14682550</td>\n",
       "      <td>Best cream to start ur day</td>\n",
       "      <td>It does what it claims . Best thing is it smoo...</td>\n",
       "      <td>Amrit Neelam</td>\n",
       "      <td>2020-09-07 15:30:42</td>\n",
       "      <td>5.0</td>\n",
       "      <td>True</td>\n",
       "      <td>False</td>\n",
       "      <td>Verified Buyer</td>\n",
       "      <td>Olay Ultra Lightweight Moisturiser: Luminous W...</td>\n",
       "      <td>1999</td>\n",
       "      <td>1599</td>\n",
       "      <td>4.1</td>\n",
       "      <td>43</td>\n",
       "      <td>NaN</td>\n",
       "      <td>https://www.nykaa.com/olay-ultra-lightweight-m...</td>\n",
       "    </tr>\n",
       "    <tr>\n",
       "      <th>2</th>\n",
       "      <td>781070</td>\n",
       "      <td>Olay</td>\n",
       "      <td>15618995</td>\n",
       "      <td>perfect for summers dry for winters</td>\n",
       "      <td>I have been using this product for months now....</td>\n",
       "      <td>Sanchi Gupta</td>\n",
       "      <td>2020-11-13 12:24:14</td>\n",
       "      <td>4.0</td>\n",
       "      <td>True</td>\n",
       "      <td>False</td>\n",
       "      <td>Verified Buyer</td>\n",
       "      <td>Olay Ultra Lightweight Moisturiser: Luminous W...</td>\n",
       "      <td>1999</td>\n",
       "      <td>1599</td>\n",
       "      <td>4.1</td>\n",
       "      <td>43</td>\n",
       "      <td>NaN</td>\n",
       "      <td>https://www.nykaa.com/olay-ultra-lightweight-m...</td>\n",
       "    </tr>\n",
       "    <tr>\n",
       "      <th>3</th>\n",
       "      <td>781070</td>\n",
       "      <td>Olay</td>\n",
       "      <td>13474509</td>\n",
       "      <td>Not a moisturizer</td>\n",
       "      <td>i have an oily skin, while this whip acts as a...</td>\n",
       "      <td>Ruchi Shah</td>\n",
       "      <td>2020-06-14 11:56:50</td>\n",
       "      <td>3.0</td>\n",
       "      <td>True</td>\n",
       "      <td>False</td>\n",
       "      <td>Verified Buyer</td>\n",
       "      <td>Olay Ultra Lightweight Moisturiser: Luminous W...</td>\n",
       "      <td>1999</td>\n",
       "      <td>1599</td>\n",
       "      <td>4.1</td>\n",
       "      <td>43</td>\n",
       "      <td>NaN</td>\n",
       "      <td>https://www.nykaa.com/olay-ultra-lightweight-m...</td>\n",
       "    </tr>\n",
       "    <tr>\n",
       "      <th>4</th>\n",
       "      <td>781070</td>\n",
       "      <td>Olay</td>\n",
       "      <td>16338982</td>\n",
       "      <td>Average</td>\n",
       "      <td>It's not that good. Please refresh try for oth...</td>\n",
       "      <td>Sukanya Sarkar</td>\n",
       "      <td>2020-12-22 15:24:35</td>\n",
       "      <td>2.0</td>\n",
       "      <td>True</td>\n",
       "      <td>False</td>\n",
       "      <td>Verified Buyer</td>\n",
       "      <td>Olay Ultra Lightweight Moisturiser: Luminous W...</td>\n",
       "      <td>1999</td>\n",
       "      <td>1599</td>\n",
       "      <td>4.1</td>\n",
       "      <td>43</td>\n",
       "      <td>NaN</td>\n",
       "      <td>https://www.nykaa.com/olay-ultra-lightweight-m...</td>\n",
       "    </tr>\n",
       "  </tbody>\n",
       "</table>\n",
       "</div>"
      ],
      "text/plain": [
       "   product_id brand_name  review_id                         review_title  \\\n",
       "0      781070       Olay   16752142                 Worth buying 50g one   \n",
       "1      781070       Olay   14682550           Best cream to start ur day   \n",
       "2      781070       Olay   15618995  perfect for summers dry for winters   \n",
       "3      781070       Olay   13474509                    Not a moisturizer   \n",
       "4      781070       Olay   16338982                              Average   \n",
       "\n",
       "                                         review_text          author  \\\n",
       "0  Works as it claims. Could see the difference f...   Ashton Dsouza   \n",
       "1  It does what it claims . Best thing is it smoo...    Amrit Neelam   \n",
       "2  I have been using this product for months now....    Sanchi Gupta   \n",
       "3  i have an oily skin, while this whip acts as a...      Ruchi Shah   \n",
       "4  It's not that good. Please refresh try for oth...  Sukanya Sarkar   \n",
       "\n",
       "           review_date  review_rating  is_a_buyer  pro_user    review_label  \\\n",
       "0  2021-01-23 15:17:18            5.0        True     False  Verified Buyer   \n",
       "1  2020-09-07 15:30:42            5.0        True     False  Verified Buyer   \n",
       "2  2020-11-13 12:24:14            4.0        True     False  Verified Buyer   \n",
       "3  2020-06-14 11:56:50            3.0        True     False  Verified Buyer   \n",
       "4  2020-12-22 15:24:35            2.0        True     False  Verified Buyer   \n",
       "\n",
       "                                       product_title   mrp  price  \\\n",
       "0  Olay Ultra Lightweight Moisturiser: Luminous W...  1999   1599   \n",
       "1  Olay Ultra Lightweight Moisturiser: Luminous W...  1999   1599   \n",
       "2  Olay Ultra Lightweight Moisturiser: Luminous W...  1999   1599   \n",
       "3  Olay Ultra Lightweight Moisturiser: Luminous W...  1999   1599   \n",
       "4  Olay Ultra Lightweight Moisturiser: Luminous W...  1999   1599   \n",
       "\n",
       "   product_rating  product_rating_count product_tags  \\\n",
       "0             4.1                    43          NaN   \n",
       "1             4.1                    43          NaN   \n",
       "2             4.1                    43          NaN   \n",
       "3             4.1                    43          NaN   \n",
       "4             4.1                    43          NaN   \n",
       "\n",
       "                                         product_url  \n",
       "0  https://www.nykaa.com/olay-ultra-lightweight-m...  \n",
       "1  https://www.nykaa.com/olay-ultra-lightweight-m...  \n",
       "2  https://www.nykaa.com/olay-ultra-lightweight-m...  \n",
       "3  https://www.nykaa.com/olay-ultra-lightweight-m...  \n",
       "4  https://www.nykaa.com/olay-ultra-lightweight-m...  "
      ]
     },
     "execution_count": 45,
     "metadata": {},
     "output_type": "execute_result"
    }
   ],
   "source": [
    "df = pd.read_csv(\"nyka_top_brands_cosmetics_product_reviews.csv\")\n",
    "df.head()"
   ]
  },
  {
   "cell_type": "code",
   "execution_count": 46,
   "id": "c8274c9b-f84c-4c60-bf90-067f9ea74fa5",
   "metadata": {},
   "outputs": [
    {
     "data": {
      "text/plain": [
       "Index(['product_id', 'brand_name', 'review_id', 'review_title', 'review_text',\n",
       "       'author', 'review_date', 'review_rating', 'is_a_buyer', 'pro_user',\n",
       "       'review_label', 'product_title', 'mrp', 'price', 'product_rating',\n",
       "       'product_rating_count', 'product_tags', 'product_url'],\n",
       "      dtype='object')"
      ]
     },
     "execution_count": 46,
     "metadata": {},
     "output_type": "execute_result"
    }
   ],
   "source": [
    "df.columns"
   ]
  },
  {
   "cell_type": "code",
   "execution_count": 47,
   "id": "7dbc46ec-ca61-4f0e-8a81-6d4663104ce7",
   "metadata": {},
   "outputs": [],
   "source": [
    "product_columns = [\n",
    "    \"review_id\", \"review_title\", \"review_text\",\n",
    "    \"author\", \"review_date\", \"review_rating\",\n",
    "    \"is_a_buyer\", \"pro_user\", \"review_label\",\n",
    "    \"product_url\"\n",
    "]\n",
    "products_df = df.drop(columns=product_columns)\n",
    "products_df = products_df.drop_duplicates(subset=\"product_id\") # Drop duplicate product_id entries (keeping the first occurrence)\n",
    "products_df = products_df.reset_index(drop=True) # Reset the index after dropping duplicates"
   ]
  },
  {
   "cell_type": "code",
   "execution_count": 48,
   "id": "33da084b-7552-4f47-9312-fb5428cedd0b",
   "metadata": {},
   "outputs": [
    {
     "data": {
      "text/html": [
       "<div>\n",
       "<style scoped>\n",
       "    .dataframe tbody tr th:only-of-type {\n",
       "        vertical-align: middle;\n",
       "    }\n",
       "\n",
       "    .dataframe tbody tr th {\n",
       "        vertical-align: top;\n",
       "    }\n",
       "\n",
       "    .dataframe thead th {\n",
       "        text-align: right;\n",
       "    }\n",
       "</style>\n",
       "<table border=\"1\" class=\"dataframe\">\n",
       "  <thead>\n",
       "    <tr style=\"text-align: right;\">\n",
       "      <th></th>\n",
       "      <th>product_id</th>\n",
       "      <th>brand_name</th>\n",
       "      <th>product_title</th>\n",
       "      <th>mrp</th>\n",
       "      <th>price</th>\n",
       "      <th>product_rating</th>\n",
       "      <th>product_rating_count</th>\n",
       "      <th>product_tags</th>\n",
       "    </tr>\n",
       "  </thead>\n",
       "  <tbody>\n",
       "    <tr>\n",
       "      <th>0</th>\n",
       "      <td>781070</td>\n",
       "      <td>Olay</td>\n",
       "      <td>Olay Ultra Lightweight Moisturiser: Luminous W...</td>\n",
       "      <td>1999</td>\n",
       "      <td>1599</td>\n",
       "      <td>4.1</td>\n",
       "      <td>43</td>\n",
       "      <td>NaN</td>\n",
       "    </tr>\n",
       "    <tr>\n",
       "      <th>1</th>\n",
       "      <td>739418</td>\n",
       "      <td>Olay</td>\n",
       "      <td>Olay Regenerist Whip Mini and Ultimate Eye Cre...</td>\n",
       "      <td>2198</td>\n",
       "      <td>1943</td>\n",
       "      <td>4.0</td>\n",
       "      <td>792</td>\n",
       "      <td>NaN</td>\n",
       "    </tr>\n",
       "    <tr>\n",
       "      <th>2</th>\n",
       "      <td>6836720</td>\n",
       "      <td>Olay</td>\n",
       "      <td>Olay Aha &amp; Niacinamide Super Cream , Acne Mark...</td>\n",
       "      <td>1999</td>\n",
       "      <td>1399</td>\n",
       "      <td>3.8</td>\n",
       "      <td>6</td>\n",
       "      <td>FEATURED</td>\n",
       "    </tr>\n",
       "    <tr>\n",
       "      <th>3</th>\n",
       "      <td>61305</td>\n",
       "      <td>Olay</td>\n",
       "      <td>Olay White Radiance Day &amp; Night Cream for Brig...</td>\n",
       "      <td>2798</td>\n",
       "      <td>2378</td>\n",
       "      <td>4.0</td>\n",
       "      <td>55</td>\n",
       "      <td>NaN</td>\n",
       "    </tr>\n",
       "    <tr>\n",
       "      <th>4</th>\n",
       "      <td>60541</td>\n",
       "      <td>Olay</td>\n",
       "      <td>Olay Total Effects 7 In One Anti-Ageing Day Cr...</td>\n",
       "      <td>375</td>\n",
       "      <td>375</td>\n",
       "      <td>3.9</td>\n",
       "      <td>99</td>\n",
       "      <td>NaN</td>\n",
       "    </tr>\n",
       "  </tbody>\n",
       "</table>\n",
       "</div>"
      ],
      "text/plain": [
       "   product_id brand_name                                      product_title  \\\n",
       "0      781070       Olay  Olay Ultra Lightweight Moisturiser: Luminous W...   \n",
       "1      739418       Olay  Olay Regenerist Whip Mini and Ultimate Eye Cre...   \n",
       "2     6836720       Olay  Olay Aha & Niacinamide Super Cream , Acne Mark...   \n",
       "3       61305       Olay  Olay White Radiance Day & Night Cream for Brig...   \n",
       "4       60541       Olay  Olay Total Effects 7 In One Anti-Ageing Day Cr...   \n",
       "\n",
       "    mrp  price  product_rating  product_rating_count product_tags  \n",
       "0  1999   1599             4.1                    43          NaN  \n",
       "1  2198   1943             4.0                   792          NaN  \n",
       "2  1999   1399             3.8                     6     FEATURED  \n",
       "3  2798   2378             4.0                    55          NaN  \n",
       "4   375    375             3.9                    99          NaN  "
      ]
     },
     "execution_count": 48,
     "metadata": {},
     "output_type": "execute_result"
    }
   ],
   "source": [
    "products_df.head()"
   ]
  },
  {
   "cell_type": "code",
   "execution_count": 49,
   "id": "b8c4ca13-94fd-41f2-9ed9-f53c0d646fb9",
   "metadata": {},
   "outputs": [
    {
     "name": "stdout",
     "output_type": "stream",
     "text": [
      "<class 'pandas.core.frame.DataFrame'>\n",
      "RangeIndex: 295 entries, 0 to 294\n",
      "Data columns (total 8 columns):\n",
      " #   Column                Non-Null Count  Dtype  \n",
      "---  ------                --------------  -----  \n",
      " 0   product_id            295 non-null    int64  \n",
      " 1   brand_name            295 non-null    object \n",
      " 2   product_title         295 non-null    object \n",
      " 3   mrp                   295 non-null    int64  \n",
      " 4   price                 295 non-null    int64  \n",
      " 5   product_rating        295 non-null    float64\n",
      " 6   product_rating_count  295 non-null    int64  \n",
      " 7   product_tags          30 non-null     object \n",
      "dtypes: float64(1), int64(4), object(3)\n",
      "memory usage: 18.6+ KB\n"
     ]
    }
   ],
   "source": [
    "products_df.info()"
   ]
  },
  {
   "cell_type": "code",
   "execution_count": 50,
   "id": "433aea3a-8c58-44f3-ac28-726826519255",
   "metadata": {},
   "outputs": [],
   "source": [
    "review_columns = [\n",
    "    \"review_id\", \"author\", \"review_date\",\n",
    "    \"review_rating\", \"is_a_buyer\", \"pro_user\", \"product_id\"\n",
    "]\n",
    "reviews_df = df[review_columns].copy()"
   ]
  },
  {
   "cell_type": "code",
   "execution_count": 51,
   "id": "9bb9f613-9d26-4426-b84a-b5006addcf8d",
   "metadata": {},
   "outputs": [
    {
     "name": "stdout",
     "output_type": "stream",
     "text": [
      "<class 'pandas.core.frame.DataFrame'>\n",
      "RangeIndex: 61284 entries, 0 to 61283\n",
      "Data columns (total 7 columns):\n",
      " #   Column         Non-Null Count  Dtype  \n",
      "---  ------         --------------  -----  \n",
      " 0   review_id      61284 non-null  int64  \n",
      " 1   author         61284 non-null  object \n",
      " 2   review_date    61284 non-null  object \n",
      " 3   review_rating  61283 non-null  float64\n",
      " 4   is_a_buyer     61284 non-null  bool   \n",
      " 5   pro_user       61284 non-null  bool   \n",
      " 6   product_id     61284 non-null  int64  \n",
      "dtypes: bool(2), float64(1), int64(2), object(2)\n",
      "memory usage: 2.5+ MB\n"
     ]
    }
   ],
   "source": [
    "reviews_df.info()"
   ]
  },
  {
   "cell_type": "code",
   "execution_count": 52,
   "id": "8041ad84-9cf9-461b-b713-f07d69fad271",
   "metadata": {},
   "outputs": [],
   "source": [
    "reviews_df[\"review_date\"] = pd.to_datetime(reviews_df[\"review_date\"], errors=\"coerce\")"
   ]
  },
  {
   "cell_type": "code",
   "execution_count": 53,
   "id": "4dd0ddd4-c4c5-4eba-a504-d9c5e03df997",
   "metadata": {},
   "outputs": [
    {
     "data": {
      "text/plain": [
       "0       2021-01-23 15:17:18\n",
       "1       2020-09-07 15:30:42\n",
       "2       2020-11-13 12:24:14\n",
       "3       2020-06-14 11:56:50\n",
       "4       2020-12-22 15:24:35\n",
       "                ...        \n",
       "61279   2021-04-12 13:28:41\n",
       "61280   2021-04-12 11:47:07\n",
       "61281   2021-04-12 10:58:34\n",
       "61282   2021-04-11 21:44:55\n",
       "61283   2022-06-20 17:41:52\n",
       "Name: review_date, Length: 61284, dtype: datetime64[ns]"
      ]
     },
     "execution_count": 53,
     "metadata": {},
     "output_type": "execute_result"
    }
   ],
   "source": [
    "reviews_df[\"review_date\"]"
   ]
  },
  {
   "cell_type": "code",
   "execution_count": 54,
   "id": "798e0787-dbe1-41a9-b60b-3c5cefaf0e33",
   "metadata": {},
   "outputs": [],
   "source": [
    "reviews_df = reviews_df[(\n",
    "    reviews_df[\"author\"].notna() &\n",
    "    reviews_df[\"author\"].str.match(r\"^[A-Za-z .'-]+$\")\n",
    ")].reset_index(drop=True)\n",
    "#It’s not reducing it to one column — it’s filtering the rows, based on that condition."
   ]
  },
  {
   "cell_type": "code",
   "execution_count": 55,
   "id": "d739b619-7dc5-4ca0-878c-3afc83c502fb",
   "metadata": {},
   "outputs": [],
   "source": [
    "reviews_df = reviews_df.dropna(subset=[\"review_rating\"])"
   ]
  },
  {
   "cell_type": "code",
   "execution_count": 56,
   "id": "f1900a3c-7080-4a17-9dd3-deaa81f46340",
   "metadata": {},
   "outputs": [
    {
     "name": "stdout",
     "output_type": "stream",
     "text": [
      "<class 'pandas.core.frame.DataFrame'>\n",
      "Index: 60731 entries, 0 to 60731\n",
      "Data columns (total 7 columns):\n",
      " #   Column         Non-Null Count  Dtype         \n",
      "---  ------         --------------  -----         \n",
      " 0   review_id      60731 non-null  int64         \n",
      " 1   author         60731 non-null  object        \n",
      " 2   review_date    60731 non-null  datetime64[ns]\n",
      " 3   review_rating  60731 non-null  float64       \n",
      " 4   is_a_buyer     60731 non-null  bool          \n",
      " 5   pro_user       60731 non-null  bool          \n",
      " 6   product_id     60731 non-null  int64         \n",
      "dtypes: bool(2), datetime64[ns](1), float64(1), int64(2), object(1)\n",
      "memory usage: 2.9+ MB\n"
     ]
    }
   ],
   "source": [
    "reviews_df.info()"
   ]
  },
  {
   "cell_type": "code",
   "execution_count": 58,
   "id": "31fcf72d-2cc4-4b27-a735-0773b6469ae2",
   "metadata": {},
   "outputs": [],
   "source": [
    "products_df.to_csv(\"products_table.csv\")\n",
    "reviews_df.to_csv(\"reviews_table.csv\")"
   ]
  },
  {
   "cell_type": "code",
   "execution_count": null,
   "id": "790f786d-2283-406a-9a31-3b322ade2c3b",
   "metadata": {},
   "outputs": [],
   "source": []
  },
  {
   "cell_type": "code",
   "execution_count": 59,
   "id": "204661d6-5380-4abe-829c-fe37969f12a9",
   "metadata": {},
   "outputs": [
    {
     "name": "stdout",
     "output_type": "stream",
     "text": [
      "Defaulting to user installation because normal site-packages is not writeable\n",
      "Requirement already satisfied: sqlalchemy in c:\\programdata\\anaconda3\\lib\\site-packages (2.0.30)\n",
      "Collecting pymysql\n",
      "  Downloading PyMySQL-1.1.1-py3-none-any.whl.metadata (4.4 kB)\n",
      "Requirement already satisfied: typing-extensions>=4.6.0 in c:\\programdata\\anaconda3\\lib\\site-packages (from sqlalchemy) (4.11.0)\n",
      "Requirement already satisfied: greenlet!=0.4.17 in c:\\users\\lenovo\\appdata\\roaming\\python\\python312\\site-packages (from sqlalchemy) (3.2.3)\n",
      "Downloading PyMySQL-1.1.1-py3-none-any.whl (44 kB)\n",
      "   ---------------------------------------- 0.0/45.0 kB ? eta -:--:--\n",
      "   --------- ------------------------------ 10.2/45.0 kB ? eta -:--:--\n",
      "   ---------------------------------------- 45.0/45.0 kB 739.0 kB/s eta 0:00:00\n",
      "Installing collected packages: pymysql\n",
      "Successfully installed pymysql-1.1.1\n"
     ]
    }
   ],
   "source": [
    "!pip install sqlalchemy pymysql"
   ]
  },
  {
   "cell_type": "code",
   "execution_count": 60,
   "id": "3df35d6b-856a-481a-8055-63c58d96f712",
   "metadata": {},
   "outputs": [],
   "source": [
    "from sqlalchemy import create_engine"
   ]
  },
  {
   "cell_type": "code",
   "execution_count": 61,
   "id": "4c65b4e2-9b41-4a88-baeb-d802d1b5654f",
   "metadata": {},
   "outputs": [],
   "source": [
    "# Replace these with your own MySQL credentials\n",
    "username = 'root'           # or your MySQL username\n",
    "password = '12345'  # your MySQL password\n",
    "host = 'localhost'          # usually 'localhost'\n",
    "port = 3306                 # MySQL default port\n",
    "database = 'project'   # your MySQL database name\n",
    "\n",
    "# Create SQLAlchemy engine\n",
    "engine = create_engine(f\"mysql+pymysql://{username}:{password}@{host}:{port}/{database}\")"
   ]
  },
  {
   "cell_type": "code",
   "execution_count": 63,
   "id": "9a5fa21a-ea69-4bfb-81e3-2740f78b5ac5",
   "metadata": {},
   "outputs": [
    {
     "data": {
      "text/plain": [
       "60731"
      ]
     },
     "execution_count": 63,
     "metadata": {},
     "output_type": "execute_result"
    }
   ],
   "source": [
    "# Export to MySQL\n",
    "products_df.to_sql(name='products', con=engine, if_exists='append', index=False)\n",
    "reviews_df.to_sql(name='reviews', con=engine, if_exists='append', index=False)"
   ]
  },
  {
   "cell_type": "code",
   "execution_count": null,
   "id": "5c4ca338-80b9-4666-91be-0e3d4d12f7a1",
   "metadata": {},
   "outputs": [],
   "source": []
  }
 ],
 "metadata": {
  "kernelspec": {
   "display_name": "Python 3 (ipykernel)",
   "language": "python",
   "name": "python3"
  },
  "language_info": {
   "codemirror_mode": {
    "name": "ipython",
    "version": 3
   },
   "file_extension": ".py",
   "mimetype": "text/x-python",
   "name": "python",
   "nbconvert_exporter": "python",
   "pygments_lexer": "ipython3",
   "version": "3.12.4"
  }
 },
 "nbformat": 4,
 "nbformat_minor": 5
}
